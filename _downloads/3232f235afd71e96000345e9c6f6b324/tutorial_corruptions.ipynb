{
  "cells": [
    {
      "cell_type": "code",
      "execution_count": null,
      "metadata": {
        "collapsed": false
      },
      "outputs": [],
      "source": [
        "# For tips on running notebooks in Google Colab, see\n# https://pytorch.org/tutorials/beginner/colab\n%matplotlib inline"
      ]
    },
    {
      "cell_type": "markdown",
      "metadata": {},
      "source": [
        "\n# Image Corruptions\n\nThis tutorial shows the impact of the different corruptions available in the\nTorchUncertainty library. These corruptions were first proposed in the paper\nBenchmarking Neural Network Robustness to Common Corruptions and Perturbations\nby Dan Hendrycks and Thomas Dietterich.\n\nFor this tutorial, we will only load the corruption transforms available in \ntorch_uncertainty.transforms.corruptions. We also need to load utilities from\ntorchvision and matplotlib.\n"
      ]
    },
    {
      "cell_type": "code",
      "execution_count": null,
      "metadata": {
        "collapsed": false
      },
      "outputs": [],
      "source": [
        "import torch\nfrom torchvision.datasets import CIFAR10\nfrom torchvision.transforms import Compose, ToTensor, Resize\n\nfrom torchvision.utils import make_grid\nimport matplotlib.pyplot as plt\n\nds = CIFAR10(\"./data\", train=False, download=True)\n\ndef get_images(main_transform, severity):\n    ds_transforms = Compose([ToTensor(), main_transform(severity), Resize(256)])\n    ds = CIFAR10(\"./data\", train=False, download=False, transform=ds_transforms)\n    return make_grid([ds[i][0] for i in range(6)]).permute(1, 2, 0)\n\ndef show_images(transform):\n    print(\"Original Images\")\n    with torch.no_grad():\n        plt.axis('off')\n        plt.imshow(get_images(transform, 0))\n        plt.show()\n\n    for severity in range(1, 6):\n        print(f\"Severity {severity}\")\n        with torch.no_grad():\n            plt.axis('off')\n            plt.imshow(get_images(transform, severity))\n            plt.show()"
      ]
    },
    {
      "cell_type": "markdown",
      "metadata": {},
      "source": [
        "## 1. Gaussian Noise\n\n"
      ]
    },
    {
      "cell_type": "code",
      "execution_count": null,
      "metadata": {
        "collapsed": false
      },
      "outputs": [],
      "source": [
        "from torch_uncertainty.transforms.corruptions import GaussianNoise\n\nshow_images(GaussianNoise)"
      ]
    },
    {
      "cell_type": "markdown",
      "metadata": {},
      "source": [
        "## 2. Shot Noise\n\n"
      ]
    },
    {
      "cell_type": "code",
      "execution_count": null,
      "metadata": {
        "collapsed": false
      },
      "outputs": [],
      "source": [
        "from torch_uncertainty.transforms.corruptions import ShotNoise\n\nshow_images(ShotNoise)"
      ]
    },
    {
      "cell_type": "markdown",
      "metadata": {},
      "source": [
        "## 3. Impulse Noise\n\n"
      ]
    },
    {
      "cell_type": "code",
      "execution_count": null,
      "metadata": {
        "collapsed": false
      },
      "outputs": [],
      "source": [
        "from torch_uncertainty.transforms.corruptions import ImpulseNoise\n\nshow_images(ImpulseNoise)"
      ]
    },
    {
      "cell_type": "markdown",
      "metadata": {},
      "source": [
        "## 4. Speckle Noise\n\n"
      ]
    },
    {
      "cell_type": "code",
      "execution_count": null,
      "metadata": {
        "collapsed": false
      },
      "outputs": [],
      "source": [
        "from torch_uncertainty.transforms.corruptions import SpeckleNoise\n\nshow_images(SpeckleNoise)"
      ]
    },
    {
      "cell_type": "markdown",
      "metadata": {},
      "source": [
        "## 5. Gaussian Blur\n\n"
      ]
    },
    {
      "cell_type": "code",
      "execution_count": null,
      "metadata": {
        "collapsed": false
      },
      "outputs": [],
      "source": [
        "from torch_uncertainty.transforms.corruptions import GaussianBlur\n\nshow_images(GaussianBlur)"
      ]
    },
    {
      "cell_type": "markdown",
      "metadata": {},
      "source": [
        "## 6. Glass Blur\n\n"
      ]
    },
    {
      "cell_type": "code",
      "execution_count": null,
      "metadata": {
        "collapsed": false
      },
      "outputs": [],
      "source": [
        "from torch_uncertainty.transforms.corruptions import GlassBlur\n\nshow_images(GlassBlur)"
      ]
    },
    {
      "cell_type": "markdown",
      "metadata": {},
      "source": [
        "## 7. Defocus Blur\n\n"
      ]
    },
    {
      "cell_type": "code",
      "execution_count": null,
      "metadata": {
        "collapsed": false
      },
      "outputs": [],
      "source": [
        "from torch_uncertainty.transforms.corruptions import DefocusBlur\n\nshow_images(DefocusBlur)"
      ]
    },
    {
      "cell_type": "markdown",
      "metadata": {},
      "source": [
        "## 8. JPEG Compression\n\n"
      ]
    },
    {
      "cell_type": "code",
      "execution_count": null,
      "metadata": {
        "collapsed": false
      },
      "outputs": [],
      "source": [
        "from torch_uncertainty.transforms.corruptions import JPEGCompression\n\nshow_images(JPEGCompression)"
      ]
    },
    {
      "cell_type": "markdown",
      "metadata": {},
      "source": [
        "## 9. Pixelate\n\n"
      ]
    },
    {
      "cell_type": "code",
      "execution_count": null,
      "metadata": {
        "collapsed": false
      },
      "outputs": [],
      "source": [
        "from torch_uncertainty.transforms.corruptions import Pixelate\n\nshow_images(Pixelate)"
      ]
    },
    {
      "cell_type": "markdown",
      "metadata": {},
      "source": [
        "## 10. Frost\n\n"
      ]
    },
    {
      "cell_type": "code",
      "execution_count": null,
      "metadata": {
        "collapsed": false
      },
      "outputs": [],
      "source": [
        "from torch_uncertainty.transforms.corruptions import Frost\n\nshow_images(Frost)"
      ]
    },
    {
      "cell_type": "markdown",
      "metadata": {},
      "source": [
        "### Reference\n\n- **Benchmarking Neural Network Robustness to Common Corruptions and Perturbations**, Dan Hendrycks and Thomas Dietterich. [ICLR 2019](https://arxiv.org/pdf/1903.12261).\n\n"
      ]
    }
  ],
  "metadata": {
    "kernelspec": {
      "display_name": "Python 3",
      "language": "python",
      "name": "python3"
    },
    "language_info": {
      "codemirror_mode": {
        "name": "ipython",
        "version": 3
      },
      "file_extension": ".py",
      "mimetype": "text/x-python",
      "name": "python",
      "nbconvert_exporter": "python",
      "pygments_lexer": "ipython3",
      "version": "3.10.13"
    }
  },
  "nbformat": 4,
  "nbformat_minor": 0
}