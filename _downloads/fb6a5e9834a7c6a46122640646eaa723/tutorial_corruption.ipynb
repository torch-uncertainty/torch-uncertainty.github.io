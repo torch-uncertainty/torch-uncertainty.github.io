{
  "cells": [
    {
      "cell_type": "code",
      "execution_count": null,
      "metadata": {
        "collapsed": false
      },
      "outputs": [],
      "source": [
        "# For tips on running notebooks in Google Colab, see\n# https://pytorch.org/tutorials/beginner/colab\n%matplotlib inline"
      ]
    },
    {
      "cell_type": "markdown",
      "metadata": {},
      "source": [
        "\n# Corrupting Images with TorchUncertainty to Benchmark Robustness\n\nThis tutorial shows the impact of the different corruption transforms available in the\nTorchUncertainty library. These corruption transforms were first proposed in the paper\nBenchmarking Neural Network Robustness to Common Corruptions and Perturbations\nby Dan Hendrycks and Thomas Dietterich.\n\nFor this tutorial, we will only load the corruption transforms available in \ntorch_uncertainty.transforms.corruption. We also need to load utilities from\ntorchvision and matplotlib.\n"
      ]
    },
    {
      "cell_type": "code",
      "execution_count": null,
      "metadata": {
        "collapsed": false
      },
      "outputs": [],
      "source": [
        "from torchvision.transforms import Compose, ToTensor, Resize, CenterCrop\n\nimport matplotlib.pyplot as plt\nfrom PIL import Image\nfrom urllib import request\n\nurls = [\n    \"https://upload.wikimedia.org/wikipedia/commons/d/d9/Carduelis_tristis_-Michigan%2C_USA_-male-8.jpg\",\n    \"https://upload.wikimedia.org/wikipedia/commons/5/5d/Border_Collie_Blanca_y_Negra_Hembra_%28Belen%2C_Border_Collie_Los_Baganes%29.png\",\n    \"https://upload.wikimedia.org/wikipedia/commons/f/f8/Birmakatze_Seal-Point.jpg\",\n    \"https://upload.wikimedia.org/wikipedia/commons/a/a9/Garranos_fight.jpg\",\n    \"https://upload.wikimedia.org/wikipedia/commons/8/8b/Cottontail_Rabbit.jpg\",\n]\n\ndef download_img(url, i):\n    request.urlretrieve(url, f\"tmp_{i}.png\")\n    return Image.open(f\"tmp_{i}.png\").convert('RGB')\n\nimages_ds = [download_img(url, i) for i, url in enumerate(urls)]\n\n\ndef get_images(main_corruption, index: int = 0):\n    \"\"\"Create an image showing the 6 levels of corruption of a given transform.\"\"\"\n    images = []\n    for severity in range(6):\n        transforms = Compose(\n            [Resize(256, antialias=True), CenterCrop(256), ToTensor(), main_corruption(severity), CenterCrop(224)]\n        )\n        images.append(transforms(images_ds[index]).permute(1, 2, 0).numpy())\n    return images\n\n\ndef show_images(transforms):\n    \"\"\"Show the effect of all given transforms.\"\"\"\n    num_corruptions = len(transforms)\n    _, ax = plt.subplots(num_corruptions, 6, figsize=(10, int(1.5 * num_corruptions)))\n    for i, transform in enumerate(transforms):\n        images = get_images(transform, index=i)\n        ax[i][0].text(\n            -0.1,\n            0.5,\n            transform.__name__,\n            transform=ax[i][0].transAxes,\n            rotation=\"vertical\",\n            horizontalalignment=\"right\",\n            verticalalignment=\"center\",\n            fontsize=12,\n        )\n        for j in range(6):\n            ax[i][j].imshow(images[j])\n            if i == 0 and j == 0:\n                ax[i][j].set_title(\"Original\")\n            elif i == 0:\n                ax[i][j].set_title(f\"Severity {j}\")\n            ax[i][j].axis(\"off\")\n    plt.show()"
      ]
    },
    {
      "cell_type": "markdown",
      "metadata": {},
      "source": [
        "## 1. Noise Corruptions\n\n"
      ]
    },
    {
      "cell_type": "code",
      "execution_count": null,
      "metadata": {
        "collapsed": false
      },
      "outputs": [],
      "source": [
        "from torch_uncertainty.transforms.corruption import (\n    GaussianNoise,\n    ShotNoise,\n    ImpulseNoise,\n)\n\nshow_images(\n    [\n        GaussianNoise,\n        ShotNoise,\n        ImpulseNoise,\n    ]\n)"
      ]
    },
    {
      "cell_type": "markdown",
      "metadata": {},
      "source": [
        "## 2. Blur Corruptions\n\n"
      ]
    },
    {
      "cell_type": "code",
      "execution_count": null,
      "metadata": {
        "collapsed": false
      },
      "outputs": [],
      "source": [
        "from torch_uncertainty.transforms.corruption import (\n    MotionBlur,\n    GlassBlur,\n    DefocusBlur,\n    ZoomBlur,\n)\n\nshow_images(\n    [\n        GlassBlur,\n        MotionBlur,\n        DefocusBlur,\n        ZoomBlur,\n    ]\n)"
      ]
    },
    {
      "cell_type": "markdown",
      "metadata": {},
      "source": [
        "## 3. Weather Corruptions\n\n"
      ]
    },
    {
      "cell_type": "code",
      "execution_count": null,
      "metadata": {
        "collapsed": false
      },
      "outputs": [],
      "source": [
        "from torch_uncertainty.transforms.corruption import (\n    Frost,\n    Snow,\n    Fog,\n)\n\nshow_images(\n    [\n        Fog,\n        Frost,\n        Snow,\n    ]\n)"
      ]
    },
    {
      "cell_type": "markdown",
      "metadata": {},
      "source": [
        "## 4. Other Corruptions\n\n"
      ]
    },
    {
      "cell_type": "code",
      "execution_count": null,
      "metadata": {
        "collapsed": false
      },
      "outputs": [],
      "source": [
        "from torch_uncertainty.transforms.corruption import (\n    Brightness, Contrast, Elastic, JPEGCompression, Pixelate)\n\nshow_images(\n    [\n        Brightness,\n        Contrast,\n        JPEGCompression,\n        Pixelate,\n        Elastic,\n    ]\n)"
      ]
    },
    {
      "cell_type": "markdown",
      "metadata": {},
      "source": [
        "## 5. Unused Corruptions\n\n"
      ]
    },
    {
      "cell_type": "code",
      "execution_count": null,
      "metadata": {
        "collapsed": false
      },
      "outputs": [],
      "source": [
        "# The following corruptions are not used in the paper Benchmarking Neural Network Robustness to Common Corruptions and Perturbations.\n\nfrom torch_uncertainty.transforms.corruption import (\n    GaussianBlur,\n    SpeckleNoise,\n    Saturation,\n)\n\nshow_images(\n    [\n        GaussianBlur,\n        SpeckleNoise,\n        Saturation,\n    ]\n)"
      ]
    },
    {
      "cell_type": "markdown",
      "metadata": {},
      "source": [
        "### Reference\n\n- **Benchmarking Neural Network Robustness to Common Corruptions and Perturbations**, Dan Hendrycks and Thomas Dietterich. [ICLR 2019](https://arxiv.org/pdf/1903.12261).\n\n"
      ]
    }
  ],
  "metadata": {
    "kernelspec": {
      "display_name": "Python 3",
      "language": "python",
      "name": "python3"
    },
    "language_info": {
      "codemirror_mode": {
        "name": "ipython",
        "version": 3
      },
      "file_extension": ".py",
      "mimetype": "text/x-python",
      "name": "python",
      "nbconvert_exporter": "python",
      "pygments_lexer": "ipython3",
      "version": "3.10.15"
    }
  },
  "nbformat": 4,
  "nbformat_minor": 0
}