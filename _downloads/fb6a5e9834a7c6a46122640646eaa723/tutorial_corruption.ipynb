{
  "cells": [
    {
      "cell_type": "code",
      "execution_count": null,
      "metadata": {
        "collapsed": false
      },
      "outputs": [],
      "source": [
        "# For tips on running notebooks in Google Colab, see\n# https://pytorch.org/tutorials/beginner/colab\n%matplotlib inline"
      ]
    },
    {
      "cell_type": "markdown",
      "metadata": {},
      "source": [
        "\n# Corrupting Images with TorchUncertainty to Benchmark Robustness\n\nThis tutorial shows the impact of the different corruptions available in the\nTorchUncertainty library. These corruptions were first proposed in the paper\nBenchmarking Neural Network Robustness to Common Corruptions and Perturbations\nby Dan Hendrycks and Thomas Dietterich.\n\nFor this tutorial, we will only load the corruption transforms available in \ntorch_uncertainty.transforms.corruptions. We also need to load utilities from\ntorchvision and matplotlib.\n"
      ]
    },
    {
      "cell_type": "code",
      "execution_count": null,
      "metadata": {
        "collapsed": false
      },
      "outputs": [],
      "source": [
        "from torchvision.datasets import CIFAR10\nfrom torchvision.transforms import Compose, ToTensor, Resize\n\nimport matplotlib.pyplot as plt\n\nds = CIFAR10(\"./data\", train=False, download=True)\n\n\ndef get_images(main_corruption, index: int = 0):\n    \"\"\"Create an image showing the 6 levels of corruption of a given transform.\"\"\"\n    images = []\n    for severity in range(6):\n        ds_transforms = Compose(\n            [ToTensor(), main_corruption(severity), Resize(256, antialias=True)]\n        )\n        ds = CIFAR10(\"./data\", train=False, download=False, transform=ds_transforms)\n        images.append(ds[index][0].permute(1, 2, 0).numpy())\n    return images\n\n\ndef show_images(transforms):\n    \"\"\"Show the effect of all given transforms.\"\"\"\n    num_corruptions = len(transforms)\n    _, ax = plt.subplots(num_corruptions, 6, figsize=(10, int(1.5 * num_corruptions)))\n    for i, transform in enumerate(transforms):\n        images = get_images(transform, index=i)\n        ax[i][0].text(\n            -0.1,\n            0.5,\n            transform.__name__,\n            transform=ax[i][0].transAxes,\n            rotation=\"vertical\",\n            horizontalalignment=\"right\",\n            verticalalignment=\"center\",\n            fontsize=12,\n        )\n        for j in range(6):\n            ax[i][j].imshow(images[j])\n            if i == 0 and j == 0:\n                ax[i][j].set_title(\"Original\")\n            elif i == 0:\n                ax[i][j].set_title(f\"Severity {j}\")\n            ax[i][j].axis(\"off\")\n    plt.show()"
      ]
    },
    {
      "cell_type": "markdown",
      "metadata": {},
      "source": [
        "## 1. Noise Corruptions\n\n"
      ]
    },
    {
      "cell_type": "code",
      "execution_count": null,
      "metadata": {
        "collapsed": false
      },
      "outputs": [],
      "source": [
        "from torch_uncertainty.transforms.corruptions import (\n    GaussianNoise,\n    ShotNoise,\n    ImpulseNoise,\n    SpeckleNoise,\n)\n\nshow_images(\n    [\n        GaussianNoise,\n        ShotNoise,\n        ImpulseNoise,\n        SpeckleNoise,\n    ]\n)"
      ]
    },
    {
      "cell_type": "markdown",
      "metadata": {},
      "source": [
        "## 2. Blur Corruptions\n\n"
      ]
    },
    {
      "cell_type": "code",
      "execution_count": null,
      "metadata": {
        "collapsed": false
      },
      "outputs": [],
      "source": [
        "from torch_uncertainty.transforms.corruptions import (\n    GaussianBlur,\n    GlassBlur,\n    DefocusBlur,\n)\n\nshow_images(\n    [\n        GaussianBlur,\n        GlassBlur,\n        DefocusBlur,\n    ]\n)"
      ]
    },
    {
      "cell_type": "markdown",
      "metadata": {},
      "source": [
        "## 3. Other Corruptions\n\n"
      ]
    },
    {
      "cell_type": "code",
      "execution_count": null,
      "metadata": {
        "collapsed": false
      },
      "outputs": [],
      "source": [
        "from torch_uncertainty.transforms.corruptions import (\n    JPEGCompression,\n    Pixelate,\n    Frost,\n)\n\nshow_images(\n    [\n        JPEGCompression,\n        Pixelate,\n        Frost,\n    ]\n)"
      ]
    },
    {
      "cell_type": "markdown",
      "metadata": {},
      "source": [
        "### Reference\n\n- **Benchmarking Neural Network Robustness to Common Corruptions and Perturbations**, Dan Hendrycks and Thomas Dietterich. [ICLR 2019](https://arxiv.org/pdf/1903.12261).\n\n"
      ]
    }
  ],
  "metadata": {
    "kernelspec": {
      "display_name": "Python 3",
      "language": "python",
      "name": "python3"
    },
    "language_info": {
      "codemirror_mode": {
        "name": "ipython",
        "version": 3
      },
      "file_extension": ".py",
      "mimetype": "text/x-python",
      "name": "python",
      "nbconvert_exporter": "python",
      "pygments_lexer": "ipython3",
      "version": "3.10.14"
    }
  },
  "nbformat": 4,
  "nbformat_minor": 0
}